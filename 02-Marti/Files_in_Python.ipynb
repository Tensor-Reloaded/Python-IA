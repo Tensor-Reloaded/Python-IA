{
  "nbformat": 4,
  "nbformat_minor": 0,
  "metadata": {
    "colab": {
      "provenance": [],
      "authorship_tag": "ABX9TyNQ0pC38M4Dcr0qW1pNWRgH",
      "include_colab_link": true
    },
    "kernelspec": {
      "name": "python3",
      "display_name": "Python 3"
    },
    "language_info": {
      "name": "python"
    }
  },
  "cells": [
    {
      "cell_type": "markdown",
      "metadata": {
        "id": "view-in-github",
        "colab_type": "text"
      },
      "source": [
        "<a href=\"https://colab.research.google.com/github/Tensor-Reloaded/Python-IA/blob/main/02-Marti/Files_in_Python.ipynb\" target=\"_parent\"><img src=\"https://colab.research.google.com/assets/colab-badge.svg\" alt=\"Open In Colab\"/></a>"
      ]
    },
    {
      "cell_type": "markdown",
      "source": [
        "## Working with files"
      ],
      "metadata": {
        "id": "Gd1cBacw18dD"
      }
    },
    {
      "cell_type": "markdown",
      "source": [
        "Rulati aceasta comanda ca sa descarcati de pe Github continutul primului fisier"
      ],
      "metadata": {
        "id": "Sn7mj9hMZJD9"
      }
    },
    {
      "cell_type": "code",
      "source": [
        "!wget https://raw.githubusercontent.com/Tensor-Reloaded/Python-IA/refs/heads/main/02-Marti/fisier.txt -O fisier.txt"
      ],
      "metadata": {
        "colab": {
          "base_uri": "https://localhost:8080/"
        },
        "id": "BWuTkkFiZEdr",
        "outputId": "7d8d635f-71cd-4d3b-de35-d0985e2ee07d"
      },
      "execution_count": 109,
      "outputs": [
        {
          "output_type": "stream",
          "name": "stdout",
          "text": [
            "--2024-10-10 11:23:04--  https://raw.githubusercontent.com/Tensor-Reloaded/Python-IA/refs/heads/main/02-Marti/fisier.txt\n",
            "Resolving raw.githubusercontent.com (raw.githubusercontent.com)... 185.199.108.133, 185.199.110.133, 185.199.111.133, ...\n",
            "Connecting to raw.githubusercontent.com (raw.githubusercontent.com)|185.199.108.133|:443... connected.\n",
            "HTTP request sent, awaiting response... 200 OK\n",
            "Length: 81 [text/plain]\n",
            "Saving to: ‘fisier.txt’\n",
            "\n",
            "\rfisier.txt            0%[                    ]       0  --.-KB/s               \rfisier.txt          100%[===================>]      81  --.-KB/s    in 0s      \n",
            "\n",
            "2024-10-10 11:23:04 (1.25 MB/s) - ‘fisier.txt’ saved [81/81]\n",
            "\n"
          ]
        }
      ]
    },
    {
      "cell_type": "markdown",
      "source": [
        "Opening files"
      ],
      "metadata": {
        "id": "KT4mmEQI453T"
      }
    },
    {
      "cell_type": "code",
      "source": [
        "with open('fisier.txt', 'r') as f:\n",
        "    print(1 + 2)  # Aici fisierul e deschis\n",
        "\n",
        "print(1 + 2)  # Aici fisierul e inchis"
      ],
      "metadata": {
        "colab": {
          "base_uri": "https://localhost:8080/"
        },
        "id": "9nm4JFsq5IBa",
        "outputId": "b1e2e1ff-3039-400a-b531-d68d17fd7777"
      },
      "execution_count": 110,
      "outputs": [
        {
          "output_type": "stream",
          "name": "stdout",
          "text": [
            "3\n",
            "3\n"
          ]
        }
      ]
    },
    {
      "cell_type": "markdown",
      "source": [
        "### Reading from files"
      ],
      "metadata": {
        "id": "b9Dqi0wv2w1Q"
      }
    },
    {
      "cell_type": "code",
      "source": [
        "with open('fisier.txt', 'r') as f:\n",
        "    print(f.read())"
      ],
      "metadata": {
        "colab": {
          "base_uri": "https://localhost:8080/"
        },
        "id": "6CfW4MwB3jrj",
        "outputId": "d6412ad0-9378-403b-8ec0-9641aaf05e09"
      },
      "execution_count": 111,
      "outputs": [
        {
          "output_type": "stream",
          "name": "stdout",
          "text": [
            "Acesta este un fisier de test, cu mai multe randuri.\n",
            "\n",
            "Un rand liber\n",
            "Final fisier\n",
            "\n"
          ]
        }
      ]
    },
    {
      "cell_type": "code",
      "source": [
        "with open('fisier.txt', 'r') as f:\n",
        "    lines = f.readlines()\n",
        "\n",
        "print(lines)"
      ],
      "metadata": {
        "colab": {
          "base_uri": "https://localhost:8080/"
        },
        "id": "B5mOFD25345N",
        "outputId": "41316030-a99d-4bd1-c2dc-0aa3375cd82f"
      },
      "execution_count": 112,
      "outputs": [
        {
          "output_type": "stream",
          "name": "stdout",
          "text": [
            "['Acesta este un fisier de test, cu mai multe randuri.\\n', '\\n', 'Un rand liber\\n', 'Final fisier\\n']\n"
          ]
        }
      ]
    },
    {
      "cell_type": "code",
      "source": [
        "with open('fisier.txt', 'r') as f:\n",
        "    print(\"Linia 1:\", f.readline())\n",
        "    print(\"Linia 2:\", f.readline())\n",
        "    print(\"Linia 3:\", f.readline())"
      ],
      "metadata": {
        "colab": {
          "base_uri": "https://localhost:8080/"
        },
        "id": "16PQ90FI3nIk",
        "outputId": "d986884b-9524-42d1-d6f7-589e50e50512"
      },
      "execution_count": 113,
      "outputs": [
        {
          "output_type": "stream",
          "name": "stdout",
          "text": [
            "Linia 1: Acesta este un fisier de test, cu mai multe randuri.\n",
            "\n",
            "Linia 2: \n",
            "\n",
            "Linia 3: Un rand liber\n",
            "\n"
          ]
        }
      ]
    },
    {
      "cell_type": "code",
      "source": [
        "with open('fisier.txt', 'r') as f:\n",
        "    for line in f:\n",
        "        print(line)"
      ],
      "metadata": {
        "colab": {
          "base_uri": "https://localhost:8080/"
        },
        "id": "2t4ey6Zi3p-E",
        "outputId": "89fc96aa-3800-421a-8f53-eb2c9b61ca5c"
      },
      "execution_count": 114,
      "outputs": [
        {
          "output_type": "stream",
          "name": "stdout",
          "text": [
            "Acesta este un fisier de test, cu mai multe randuri.\n",
            "\n",
            "\n",
            "\n",
            "Un rand liber\n",
            "\n",
            "Final fisier\n",
            "\n"
          ]
        }
      ]
    },
    {
      "cell_type": "code",
      "source": [
        "def read_file(filename):\n",
        "    with open(filename, 'r') as f:\n",
        "        return f.read()"
      ],
      "metadata": {
        "id": "U6EFFChOF6KS"
      },
      "execution_count": 115,
      "outputs": []
    },
    {
      "cell_type": "markdown",
      "source": [
        "### Writing to files"
      ],
      "metadata": {
        "id": "ymn7Ae_F2gox"
      }
    },
    {
      "cell_type": "code",
      "source": [
        "filename = 'test.txt'\n",
        "\n",
        "with open(filename, 'w') as f:\n",
        "    # Write e periculos pentru ca suprascrie fisierul (sterge continutul anterior)\n",
        "    f.write('test\\n')\n",
        "    f.write('test2\\n')\n",
        "\n",
        "print(read_file(filename))"
      ],
      "metadata": {
        "colab": {
          "base_uri": "https://localhost:8080/"
        },
        "id": "md9YG2F-1lhR",
        "outputId": "0edac3be-c676-4291-8f0f-e930edb66076"
      },
      "execution_count": 116,
      "outputs": [
        {
          "output_type": "stream",
          "name": "stdout",
          "text": [
            "test\n",
            "test2\n",
            "\n"
          ]
        }
      ]
    },
    {
      "cell_type": "markdown",
      "source": [
        "Write vs Append"
      ],
      "metadata": {
        "id": "ljbcR9pu4903"
      }
    },
    {
      "cell_type": "code",
      "source": [
        "with open(filename, 'a') as f:\n",
        "    # Append scrie la final, nu sterge continutul anterior\n",
        "    f.write('test3\\n')\n",
        "\n",
        "print(read_file(filename))"
      ],
      "metadata": {
        "colab": {
          "base_uri": "https://localhost:8080/"
        },
        "id": "t6QTaoI9FY4r",
        "outputId": "1731e5a1-f482-4a97-8563-846cf7ec6d1a"
      },
      "execution_count": 117,
      "outputs": [
        {
          "output_type": "stream",
          "name": "stdout",
          "text": [
            "test\n",
            "test2\n",
            "test3\n",
            "\n"
          ]
        }
      ]
    },
    {
      "cell_type": "code",
      "source": [
        "with open(filename, 'rb') as f:  # Acesta este formatul binar\n",
        "    for line in f:\n",
        "        print(line)"
      ],
      "metadata": {
        "colab": {
          "base_uri": "https://localhost:8080/"
        },
        "id": "dI9lXZswHL3i",
        "outputId": "e783a1c4-398a-4ec2-87a3-6796c78d0987"
      },
      "execution_count": 118,
      "outputs": [
        {
          "output_type": "stream",
          "name": "stdout",
          "text": [
            "b'test\\n'\n",
            "b'test2\\n'\n",
            "b'test3\\n'\n"
          ]
        }
      ]
    },
    {
      "cell_type": "code",
      "source": [],
      "metadata": {
        "id": "XcpY5V2f5HBg"
      },
      "execution_count": 118,
      "outputs": []
    },
    {
      "cell_type": "markdown",
      "source": [
        "## Working with csv files\n"
      ],
      "metadata": {
        "id": "Fuaphe0Y6y77"
      }
    },
    {
      "cell_type": "markdown",
      "source": [
        "Rulati aceasta comanda ca sa descarcati de pe Github continutul fisierului csv\n"
      ],
      "metadata": {
        "id": "B2qh7Gf6Zjf0"
      }
    },
    {
      "cell_type": "code",
      "source": [
        "!wget https://raw.githubusercontent.com/Tensor-Reloaded/Python-IA/refs/heads/main/02-Marti/winequality-red.csv -O winequality-red.csv"
      ],
      "metadata": {
        "colab": {
          "base_uri": "https://localhost:8080/"
        },
        "id": "iMrtR6P3Zdnl",
        "outputId": "a4c2c387-8828-4e88-f9e2-000eb1399309"
      },
      "execution_count": 119,
      "outputs": [
        {
          "output_type": "stream",
          "name": "stdout",
          "text": [
            "--2024-10-10 11:23:05--  https://raw.githubusercontent.com/Tensor-Reloaded/Python-IA/refs/heads/main/02-Marti/winequality-red.csv\n",
            "Resolving raw.githubusercontent.com (raw.githubusercontent.com)... 185.199.109.133, 185.199.110.133, 185.199.108.133, ...\n",
            "Connecting to raw.githubusercontent.com (raw.githubusercontent.com)|185.199.109.133|:443... connected.\n",
            "HTTP request sent, awaiting response... 200 OK\n",
            "Length: 84199 (82K) [text/plain]\n",
            "Saving to: ‘winequality-red.csv’\n",
            "\n",
            "\rwinequality-red.csv   0%[                    ]       0  --.-KB/s               \rwinequality-red.csv 100%[===================>]  82.23K  --.-KB/s    in 0.02s   \n",
            "\n",
            "2024-10-10 11:23:05 (3.46 MB/s) - ‘winequality-red.csv’ saved [84199/84199]\n",
            "\n"
          ]
        }
      ]
    },
    {
      "cell_type": "code",
      "source": [
        "with open('winequality-red.csv', 'r') as f:\n",
        "    lines = f.readlines()\n",
        "\n",
        "lines[0] = lines[0].split(';')\n",
        "lines[1] = lines[1].split(';')\n",
        "\n",
        "\n",
        "print(lines[0])\n",
        "print(lines[1])"
      ],
      "metadata": {
        "colab": {
          "base_uri": "https://localhost:8080/"
        },
        "id": "9VexyfMv64IL",
        "outputId": "bdd82327-4cb9-4dbc-d8c7-803cc99eb95a"
      },
      "execution_count": 120,
      "outputs": [
        {
          "output_type": "stream",
          "name": "stdout",
          "text": [
            "['\"fixed acidity\"', '\"volatile acidity\"', '\"citric acid\"', '\"residual sugar\"', '\"chlorides\"', '\"free sulfur dioxide\"', '\"total sulfur dioxide\"', '\"density\"', '\"pH\"', '\"sulphates\"', '\"alcohol\"', '\"quality\"\\n']\n",
            "['7.4', '0.7', '0', '1.9', '0.076', '11', '34', '0.9978', '3.51', '0.56', '9.4', '5\\n']\n"
          ]
        }
      ]
    },
    {
      "cell_type": "markdown",
      "source": [
        "### The csv module"
      ],
      "metadata": {
        "id": "92W1UGYT6wDD"
      }
    },
    {
      "cell_type": "code",
      "source": [
        "import csv\n",
        "\n",
        "rows = 0\n",
        "\n",
        "with open('winequality-red.csv', 'r', ) as f:\n",
        "    spamreader = csv.reader(f, delimiter=';')\n",
        "    for row in spamreader:\n",
        "        # print(row)\n",
        "        print(', '.join(row))\n",
        "\n",
        "        rows = rows + 1\n",
        "        if rows > 20:\n",
        "            break"
      ],
      "metadata": {
        "colab": {
          "base_uri": "https://localhost:8080/"
        },
        "id": "1yrZMxtm6Me_",
        "outputId": "83fb0a4c-a142-4ce1-97a7-cf416db1c145"
      },
      "execution_count": 121,
      "outputs": [
        {
          "output_type": "stream",
          "name": "stdout",
          "text": [
            "fixed acidity, volatile acidity, citric acid, residual sugar, chlorides, free sulfur dioxide, total sulfur dioxide, density, pH, sulphates, alcohol, quality\n",
            "7.4, 0.7, 0, 1.9, 0.076, 11, 34, 0.9978, 3.51, 0.56, 9.4, 5\n",
            "7.8, 0.88, 0, 2.6, 0.098, 25, 67, 0.9968, 3.2, 0.68, 9.8, 5\n",
            "7.8, 0.76, 0.04, 2.3, 0.092, 15, 54, 0.997, 3.26, 0.65, 9.8, 5\n",
            "11.2, 0.28, 0.56, 1.9, 0.075, 17, 60, 0.998, 3.16, 0.58, 9.8, 6\n",
            "7.4, 0.7, 0, 1.9, 0.076, 11, 34, 0.9978, 3.51, 0.56, 9.4, 5\n",
            "7.4, 0.66, 0, 1.8, 0.075, 13, 40, 0.9978, 3.51, 0.56, 9.4, 5\n",
            "7.9, 0.6, 0.06, 1.6, 0.069, 15, 59, 0.9964, 3.3, 0.46, 9.4, 5\n",
            "7.3, 0.65, 0, 1.2, 0.065, 15, 21, 0.9946, 3.39, 0.47, 10, 7\n",
            "7.8, 0.58, 0.02, 2, 0.073, 9, 18, 0.9968, 3.36, 0.57, 9.5, 7\n",
            "7.5, 0.5, 0.36, 6.1, 0.071, 17, 102, 0.9978, 3.35, 0.8, 10.5, 5\n",
            "6.7, 0.58, 0.08, 1.8, 0.097, 15, 65, 0.9959, 3.28, 0.54, 9.2, 5\n",
            "7.5, 0.5, 0.36, 6.1, 0.071, 17, 102, 0.9978, 3.35, 0.8, 10.5, 5\n",
            "5.6, 0.615, 0, 1.6, 0.089, 16, 59, 0.9943, 3.58, 0.52, 9.9, 5\n",
            "7.8, 0.61, 0.29, 1.6, 0.114, 9, 29, 0.9974, 3.26, 1.56, 9.1, 5\n",
            "8.9, 0.62, 0.18, 3.8, 0.176, 52, 145, 0.9986, 3.16, 0.88, 9.2, 5\n",
            "8.9, 0.62, 0.19, 3.9, 0.17, 51, 148, 0.9986, 3.17, 0.93, 9.2, 5\n",
            "8.5, 0.28, 0.56, 1.8, 0.092, 35, 103, 0.9969, 3.3, 0.75, 10.5, 7\n",
            "8.1, 0.56, 0.28, 1.7, 0.368, 16, 56, 0.9968, 3.11, 1.28, 9.3, 5\n",
            "7.4, 0.59, 0.08, 4.4, 0.086, 6, 29, 0.9974, 3.38, 0.5, 9, 4\n",
            "7.9, 0.32, 0.51, 1.8, 0.341, 17, 56, 0.9969, 3.04, 1.08, 9.2, 6\n"
          ]
        }
      ]
    },
    {
      "cell_type": "code",
      "source": [
        "all_rows = []\n",
        "\n",
        "with open('winequality-red.csv', 'r', ) as f:\n",
        "    spamreader = csv.reader(f, delimiter=';')\n",
        "    for row in spamreader:\n",
        "        all_rows.append(row)\n",
        "\n"
      ],
      "metadata": {
        "id": "yWRG-FqnLFQ7"
      },
      "execution_count": 122,
      "outputs": []
    },
    {
      "cell_type": "code",
      "source": [
        "len(all_rows)"
      ],
      "metadata": {
        "colab": {
          "base_uri": "https://localhost:8080/"
        },
        "id": "YhIcZQYtLVPb",
        "outputId": "928834d2-7111-4d8c-d3f0-d3a873a6fc30"
      },
      "execution_count": 123,
      "outputs": [
        {
          "output_type": "execute_result",
          "data": {
            "text/plain": [
              "1600"
            ]
          },
          "metadata": {},
          "execution_count": 123
        }
      ]
    },
    {
      "cell_type": "code",
      "source": [
        "len(all_rows[0])"
      ],
      "metadata": {
        "colab": {
          "base_uri": "https://localhost:8080/"
        },
        "id": "f2sqbplQLZX0",
        "outputId": "9f7fcbcb-aaef-4962-9d68-786a98f96082"
      },
      "execution_count": 124,
      "outputs": [
        {
          "output_type": "execute_result",
          "data": {
            "text/plain": [
              "12"
            ]
          },
          "metadata": {},
          "execution_count": 124
        }
      ]
    },
    {
      "cell_type": "code",
      "source": [
        "all_rows[0][0]"
      ],
      "metadata": {
        "colab": {
          "base_uri": "https://localhost:8080/",
          "height": 36
        },
        "id": "COy0ePblLfod",
        "outputId": "0d1cef68-66cf-4d2e-955b-d3266b517068"
      },
      "execution_count": 125,
      "outputs": [
        {
          "output_type": "execute_result",
          "data": {
            "text/plain": [
              "'fixed acidity'"
            ],
            "application/vnd.google.colaboratory.intrinsic+json": {
              "type": "string"
            }
          },
          "metadata": {},
          "execution_count": 125
        }
      ]
    },
    {
      "cell_type": "code",
      "source": [
        "all_rows[0][-1]"
      ],
      "metadata": {
        "colab": {
          "base_uri": "https://localhost:8080/",
          "height": 36
        },
        "id": "W8FKJD7MLjn7",
        "outputId": "b68f2dd9-730f-4a0d-8135-d237ac75344e"
      },
      "execution_count": 126,
      "outputs": [
        {
          "output_type": "execute_result",
          "data": {
            "text/plain": [
              "'quality'"
            ],
            "application/vnd.google.colaboratory.intrinsic+json": {
              "type": "string"
            }
          },
          "metadata": {},
          "execution_count": 126
        }
      ]
    },
    {
      "cell_type": "code",
      "source": [
        "quality_5 = 0\n",
        "\n",
        "for row in all_rows:\n",
        "    if row[-1] == '5':\n",
        "        quality_5 = quality_5 + 1\n",
        "\n",
        "print(quality_5)"
      ],
      "metadata": {
        "colab": {
          "base_uri": "https://localhost:8080/"
        },
        "id": "4VsvxvbSLzMq",
        "outputId": "98c503f3-6b66-46fa-dd52-a6a9aba1eda6"
      },
      "execution_count": 127,
      "outputs": [
        {
          "output_type": "stream",
          "name": "stdout",
          "text": [
            "681\n"
          ]
        }
      ]
    },
    {
      "cell_type": "code",
      "source": [
        "quality_7 = 0\n",
        "\n",
        "for row in all_rows:\n",
        "    if row[-1] == '7':\n",
        "        quality_7 = quality_7 + 1\n",
        "\n",
        "print(quality_7)"
      ],
      "metadata": {
        "colab": {
          "base_uri": "https://localhost:8080/"
        },
        "id": "I9WU93VkMHF3",
        "outputId": "7f4cda7a-41a8-4066-b6ad-239d984ec240"
      },
      "execution_count": 128,
      "outputs": [
        {
          "output_type": "stream",
          "name": "stdout",
          "text": [
            "199\n"
          ]
        }
      ]
    },
    {
      "cell_type": "code",
      "source": [
        "print(all_rows[0])\n",
        "for row in all_rows[:200]:\n",
        "    if row[-1] == '7':\n",
        "        print(row)"
      ],
      "metadata": {
        "colab": {
          "base_uri": "https://localhost:8080/"
        },
        "id": "yQ1kYz9pM22-",
        "outputId": "3f2aecfa-bdb2-4c5e-a53f-2838af10e991"
      },
      "execution_count": 129,
      "outputs": [
        {
          "output_type": "stream",
          "name": "stdout",
          "text": [
            "['fixed acidity', 'volatile acidity', 'citric acid', 'residual sugar', 'chlorides', 'free sulfur dioxide', 'total sulfur dioxide', 'density', 'pH', 'sulphates', 'alcohol', 'quality']\n",
            "['7.3', '0.65', '0', '1.2', '0.065', '15', '21', '0.9946', '3.39', '0.47', '10', '7']\n",
            "['7.8', '0.58', '0.02', '2', '0.073', '9', '18', '0.9968', '3.36', '0.57', '9.5', '7']\n",
            "['8.5', '0.28', '0.56', '1.8', '0.092', '35', '103', '0.9969', '3.3', '0.75', '10.5', '7']\n",
            "['8.1', '0.38', '0.28', '2.1', '0.066', '13', '30', '0.9968', '3.23', '0.73', '9.7', '7']\n",
            "['7.5', '0.52', '0.16', '1.9', '0.085', '12', '35', '0.9968', '3.38', '0.62', '9.5', '7']\n",
            "['8', '0.59', '0.16', '1.8', '0.065', '3', '16', '0.9962', '3.42', '0.92', '10.5', '7']\n",
            "['5.4', '0.835', '0.08', '1.2', '0.046', '13', '93', '0.9924', '3.57', '0.85', '13', '7']\n"
          ]
        }
      ]
    },
    {
      "cell_type": "code",
      "source": [
        "sum_acidity = 0\n",
        "sum_sugar = 0\n",
        "count = 0\n",
        "\n",
        "for row in all_rows[:200]:\n",
        "    if row[-1] == '7':\n",
        "        sum_acidity = sum_acidity + float(row[0])\n",
        "        sum_sugar = sum_sugar + float(row[3])\n",
        "        count = count + 1\n",
        "\n",
        "print(\"Aciditate medie\", sum_acidity / count)\n",
        "print(\"Cantitate de zahar medie\", sum_sugar / count)"
      ],
      "metadata": {
        "colab": {
          "base_uri": "https://localhost:8080/"
        },
        "id": "nRm9i5G0N37K",
        "outputId": "645740af-c196-4abc-c522-3d35c95e9cb2"
      },
      "execution_count": 130,
      "outputs": [
        {
          "output_type": "stream",
          "name": "stdout",
          "text": [
            "Aciditate medie 7.514285714285714\n",
            "Cantitate de zahar medie 1.7142857142857142\n"
          ]
        }
      ]
    },
    {
      "cell_type": "markdown",
      "source": [
        "## The os module"
      ],
      "metadata": {
        "id": "XcL_MZdK7CBP"
      }
    },
    {
      "cell_type": "code",
      "source": [
        "import os\n"
      ],
      "metadata": {
        "id": "cd65A-DO7D3l"
      },
      "execution_count": 131,
      "outputs": []
    },
    {
      "cell_type": "markdown",
      "source": [
        "Creating directories"
      ],
      "metadata": {
        "id": "IXBGmhV9-Rz7"
      }
    },
    {
      "cell_type": "code",
      "source": [
        "os.makedirs('Folder/Poze', exist_ok=True)"
      ],
      "metadata": {
        "id": "PcPMwyNz-Q_y"
      },
      "execution_count": 132,
      "outputs": []
    },
    {
      "cell_type": "code",
      "source": [
        "os.makedirs('Folder/Documente/Acte', exist_ok=True)\n",
        "os.makedirs('Folder/Documente/FisiereText', exist_ok=True)"
      ],
      "metadata": {
        "id": "drAfye2NPo9k"
      },
      "execution_count": 133,
      "outputs": []
    },
    {
      "cell_type": "code",
      "source": [
        "with open('Folder/Documente/FisiereText/fisier1.txt', 'w') as f:\n",
        "    f.write('test')"
      ],
      "metadata": {
        "id": "zZyQ62WgP4RZ"
      },
      "execution_count": 134,
      "outputs": []
    },
    {
      "cell_type": "markdown",
      "source": [
        "Moving files"
      ],
      "metadata": {
        "id": "W-iujHtH-T0F"
      }
    },
    {
      "cell_type": "code",
      "source": [
        "os.rename('Folder/Documente/FisiereText/fisier1.txt', 'Folder/Documente/Acte/act1.txt')"
      ],
      "metadata": {
        "id": "xoSy2T2c-XPT"
      },
      "execution_count": 135,
      "outputs": []
    },
    {
      "cell_type": "markdown",
      "source": [
        "Copying files"
      ],
      "metadata": {
        "id": "ryGRgnEv-xdz"
      }
    },
    {
      "cell_type": "code",
      "source": [
        "import shutil\n",
        "\n",
        "shutil.copy('Folder/Documente/Acte/act1.txt', 'Folder/Documente/FisiereText/fisier1.txt')"
      ],
      "metadata": {
        "colab": {
          "base_uri": "https://localhost:8080/",
          "height": 36
        },
        "id": "6EQbCBvD-4gt",
        "outputId": "07200ebb-4212-4670-cf68-58d405bf04c3"
      },
      "execution_count": 136,
      "outputs": [
        {
          "output_type": "execute_result",
          "data": {
            "text/plain": [
              "'Folder/Documente/FisiereText/fisier1.txt'"
            ],
            "application/vnd.google.colaboratory.intrinsic+json": {
              "type": "string"
            }
          },
          "metadata": {},
          "execution_count": 136
        }
      ]
    },
    {
      "cell_type": "markdown",
      "source": [
        "Searching through files"
      ],
      "metadata": {
        "id": "NZLoFJWU-0Bw"
      }
    },
    {
      "cell_type": "code",
      "source": [
        "print(os.path.isfile('Folder/Documente/Acte/act1.txt'))\n",
        "print(os.path.isfile('Folder/Documente/Acte/act2.txt'))\n",
        "print()\n",
        "print(os.path.isfile('Folder/Documente/Acte'))\n",
        "print(os.path.isdir('Folder/Documente/Acte'))\n",
        "\n",
        "print()\n",
        "print(\"Fisierele din Folder:\", os.listdir('Folder'))\n",
        "print(\"Fisierele din Folder/Documente:\", os.listdir('Folder/Documente'))\n",
        "print(\"Fisierele din Folder/Documente/Acte: \", os.listdir('Folder/Documente/Acte'))\n"
      ],
      "metadata": {
        "colab": {
          "base_uri": "https://localhost:8080/"
        },
        "id": "sv8ZD3cwRJPy",
        "outputId": "60752c8a-5445-45f4-b63c-a83d8437d28b"
      },
      "execution_count": 137,
      "outputs": [
        {
          "output_type": "stream",
          "name": "stdout",
          "text": [
            "True\n",
            "False\n",
            "\n",
            "False\n",
            "True\n",
            "\n",
            "Fisierele din Folder: ['Documente', 'Poze']\n",
            "Fisierele din Folder/Documente: ['Acte', 'FisiereText']\n",
            "Fisierele din Folder/Documente/Acte:  ['act1.txt']\n"
          ]
        }
      ]
    },
    {
      "cell_type": "code",
      "source": [
        "for root, dirs, files in os.walk(\"Folder\"):\n",
        "    print(\"root\", root)\n",
        "    print(\"Directories\", dirs)\n",
        "    print(\"Files\", files)\n",
        "    print()"
      ],
      "metadata": {
        "colab": {
          "base_uri": "https://localhost:8080/"
        },
        "id": "N7LRX8lTUCJ-",
        "outputId": "8aa4ab55-262e-410b-9458-20ad421d5d20"
      },
      "execution_count": 138,
      "outputs": [
        {
          "output_type": "stream",
          "name": "stdout",
          "text": [
            "root Folder\n",
            "Directories ['Documente', 'Poze']\n",
            "Files []\n",
            "\n",
            "root Folder/Documente\n",
            "Directories ['Acte', 'FisiereText']\n",
            "Files []\n",
            "\n",
            "root Folder/Documente/Acte\n",
            "Directories []\n",
            "Files ['act1.txt']\n",
            "\n",
            "root Folder/Documente/FisiereText\n",
            "Directories []\n",
            "Files ['de gasit.txt', 'fisier1.txt']\n",
            "\n",
            "root Folder/Poze\n",
            "Directories []\n",
            "Files []\n",
            "\n"
          ]
        }
      ]
    },
    {
      "cell_type": "code",
      "source": [
        "for root, dirs, files in os.walk(\"Folder\"):\n",
        "    for file in files:\n",
        "        if file == 'act1.txt':\n",
        "            print(\"Gasit la\", root)\n"
      ],
      "metadata": {
        "colab": {
          "base_uri": "https://localhost:8080/"
        },
        "id": "5q16Q8PH9e2U",
        "outputId": "be2d4052-0182-4667-dc8a-76d2fabf55d4"
      },
      "execution_count": 139,
      "outputs": [
        {
          "output_type": "stream",
          "name": "stdout",
          "text": [
            "Gasit la Folder/Documente/Acte\n"
          ]
        }
      ]
    },
    {
      "cell_type": "code",
      "source": [
        "with open('Folder/Documente/FisiereText/de gasit.txt', 'w') as f:\n",
        "    f.write('CUVANT MAGIC')"
      ],
      "metadata": {
        "id": "RpuDxjvuWkSF"
      },
      "execution_count": 140,
      "outputs": []
    },
    {
      "cell_type": "code",
      "source": [
        "path_to_file = ''\n",
        "\n",
        "for root, dirs, files in os.walk(\"Folder\"):\n",
        "    for file in files:\n",
        "        if file == 'act1.txt':\n",
        "            print(\"Gasit la\", root)\n",
        "            path_to_file = os.path.join(root, file)\n",
        "            break\n",
        "\n",
        "print(file)\n",
        "print(path_to_file)\n"
      ],
      "metadata": {
        "colab": {
          "base_uri": "https://localhost:8080/"
        },
        "id": "E5IMLToMUPQe",
        "outputId": "1875cade-5091-42b4-cbb9-09e33a7634a3"
      },
      "execution_count": 141,
      "outputs": [
        {
          "output_type": "stream",
          "name": "stdout",
          "text": [
            "Gasit la Folder/Documente/Acte\n",
            "fisier1.txt\n",
            "Folder/Documente/Acte/act1.txt\n"
          ]
        }
      ]
    },
    {
      "cell_type": "code",
      "source": [
        "for root, dirs, files in os.walk(\"Folder\"):\n",
        "    for file in files:\n",
        "        path_to_file = os.path.join(root, file)\n",
        "        text = read_file(path_to_file)\n",
        "        if 'MAGIC' in text:\n",
        "            print(\"Gasit la\", path_to_file)\n"
      ],
      "metadata": {
        "colab": {
          "base_uri": "https://localhost:8080/"
        },
        "id": "DZtkI7kzWRVg",
        "outputId": "7c831ca7-d565-4cec-9d21-6bc7bd2276ba"
      },
      "execution_count": 142,
      "outputs": [
        {
          "output_type": "stream",
          "name": "stdout",
          "text": [
            "Gasit la Folder/Documente/FisiereText/de gasit.txt\n"
          ]
        }
      ]
    },
    {
      "cell_type": "code",
      "source": [
        "path = os.path.join('Folder', 'Documente', 'Acte', 'act1.txt')\n",
        "\n",
        "print(os.path.isfile(path), path)"
      ],
      "metadata": {
        "colab": {
          "base_uri": "https://localhost:8080/"
        },
        "id": "KFf9ydN5UqEw",
        "outputId": "604b6694-3fce-4eae-e393-16df467e265f"
      },
      "execution_count": 143,
      "outputs": [
        {
          "output_type": "stream",
          "name": "stdout",
          "text": [
            "True Folder/Documente/Acte/act1.txt\n"
          ]
        }
      ]
    },
    {
      "cell_type": "code",
      "source": [
        "os.path.join('Folder', 'Documente', 'Acte', 'act1.txt')"
      ],
      "metadata": {
        "colab": {
          "base_uri": "https://localhost:8080/",
          "height": 36
        },
        "id": "EpDVA_BTVUas",
        "outputId": "006d0c03-ccd7-4b0a-9d7a-51bdfdfd4ffd"
      },
      "execution_count": 144,
      "outputs": [
        {
          "output_type": "execute_result",
          "data": {
            "text/plain": [
              "'Folder/Documente/Acte/act1.txt'"
            ],
            "application/vnd.google.colaboratory.intrinsic+json": {
              "type": "string"
            }
          },
          "metadata": {},
          "execution_count": 144
        }
      ]
    }
  ]
}