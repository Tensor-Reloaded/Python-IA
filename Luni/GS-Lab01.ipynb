{
  "cells": [
    {
      "cell_type": "markdown",
      "metadata": {
        "colab_type": "text",
        "id": "view-in-github"
      },
      "source": [
        "<a href=\"https://colab.research.google.com/github/Tensor-Reloaded/Neural-Networks-Template-2024/blob/main/Lab01/GS-Lab01.ipynb\" target=\"_parent\"><img src=\"https://colab.research.google.com/assets/colab-badge.svg\" alt=\"Open In Colab\"/></a>"
      ]
    },
    {
      "cell_type": "markdown",
      "metadata": {
        "id": "_a3mzLZrN76-"
      },
      "source": [
        "# Python fundamentals"
      ]
    },
    {
      "cell_type": "markdown",
      "metadata": {
        "id": "gXqYekvjN76-"
      },
      "source": [
        "### Data types"
      ]
    },
    {
      "cell_type": "code",
      "execution_count": 1,
      "metadata": {
        "colab": {
          "base_uri": "https://localhost:8080/"
        },
        "execution": {
          "iopub.execute_input": "2024-10-02T11:44:03.951372Z",
          "iopub.status.busy": "2024-10-02T11:44:03.950493Z",
          "iopub.status.idle": "2024-10-02T11:44:03.983787Z",
          "shell.execute_reply": "2024-10-02T11:44:03.982322Z",
          "shell.execute_reply.started": "2024-10-02T11:44:03.951322Z"
        },
        "id": "3MhBylJEN76_",
        "outputId": "c419c283-d10e-411e-eebe-ba4135a6efaf",
        "trusted": true
      },
      "outputs": [
        {
          "name": "stdout",
          "output_type": "stream",
          "text": [
            "<class 'int'>\n"
          ]
        }
      ],
      "source": [
        "a = 5\n",
        "print(type(a))"
      ]
    },
    {
      "cell_type": "code",
      "execution_count": 2,
      "metadata": {
        "colab": {
          "base_uri": "https://localhost:8080/"
        },
        "execution": {
          "iopub.execute_input": "2024-10-02T11:44:36.10948Z",
          "iopub.status.busy": "2024-10-02T11:44:36.109006Z",
          "iopub.status.idle": "2024-10-02T11:44:36.117591Z",
          "shell.execute_reply": "2024-10-02T11:44:36.116327Z",
          "shell.execute_reply.started": "2024-10-02T11:44:36.109437Z"
        },
        "id": "wodi_gU9N76_",
        "outputId": "126bca12-4c64-43dc-9a25-fbaca73d0f3c",
        "trusted": true
      },
      "outputs": [
        {
          "name": "stdout",
          "output_type": "stream",
          "text": [
            "<class 'float'>\n"
          ]
        }
      ],
      "source": [
        "a = 5.0\n",
        "print(type(a))"
      ]
    },
    {
      "cell_type": "code",
      "execution_count": 3,
      "metadata": {
        "colab": {
          "base_uri": "https://localhost:8080/"
        },
        "execution": {
          "iopub.execute_input": "2024-10-02T11:45:05.271206Z",
          "iopub.status.busy": "2024-10-02T11:45:05.270755Z",
          "iopub.status.idle": "2024-10-02T11:45:05.279648Z",
          "shell.execute_reply": "2024-10-02T11:45:05.278196Z",
          "shell.execute_reply.started": "2024-10-02T11:45:05.27116Z"
        },
        "id": "tHznwFqRN77A",
        "outputId": "0756c44d-d0bb-4633-a763-502f8dba2b56",
        "trusted": true
      },
      "outputs": [
        {
          "name": "stdout",
          "output_type": "stream",
          "text": [
            "<class 'str'>\n"
          ]
        }
      ],
      "source": [
        "a = '5'\n",
        "print(type(a))"
      ]
    },
    {
      "cell_type": "code",
      "execution_count": 4,
      "metadata": {
        "colab": {
          "base_uri": "https://localhost:8080/"
        },
        "execution": {
          "iopub.execute_input": "2024-10-02T11:45:06.796862Z",
          "iopub.status.busy": "2024-10-02T11:45:06.795423Z",
          "iopub.status.idle": "2024-10-02T11:45:06.804179Z",
          "shell.execute_reply": "2024-10-02T11:45:06.802988Z",
          "shell.execute_reply.started": "2024-10-02T11:45:06.796802Z"
        },
        "id": "djbJqdr6N77A",
        "outputId": "dbbc12a5-3d3e-43c0-fd1b-8d7d633fcd16",
        "trusted": true
      },
      "outputs": [
        {
          "name": "stdout",
          "output_type": "stream",
          "text": [
            "<class 'bool'>\n"
          ]
        }
      ],
      "source": [
        "a = True\n",
        "print(type(a))"
      ]
    },
    {
      "cell_type": "markdown",
      "metadata": {
        "id": "QGqwl2wbN77A"
      },
      "source": [
        "## Containers"
      ]
    },
    {
      "cell_type": "code",
      "execution_count": 5,
      "metadata": {
        "colab": {
          "base_uri": "https://localhost:8080/"
        },
        "execution": {
          "iopub.execute_input": "2024-10-02T11:49:29.586322Z",
          "iopub.status.busy": "2024-10-02T11:49:29.58574Z",
          "iopub.status.idle": "2024-10-02T11:49:29.594511Z",
          "shell.execute_reply": "2024-10-02T11:49:29.592585Z",
          "shell.execute_reply.started": "2024-10-02T11:49:29.586194Z"
        },
        "id": "lZIuCa6RN77A",
        "outputId": "04899e4e-9d3a-43d7-bcfd-310e094f5043",
        "trusted": true
      },
      "outputs": [
        {
          "name": "stdout",
          "output_type": "stream",
          "text": [
            "[1, 2, 2, 3.0, '5']\n",
            "<class 'list'>\n"
          ]
        }
      ],
      "source": [
        "a_list = [1, 2, 2, 3.0, '5']\n",
        "print(a_list)\n",
        "print(type(a_list))"
      ]
    },
    {
      "cell_type": "code",
      "execution_count": 6,
      "metadata": {
        "colab": {
          "base_uri": "https://localhost:8080/"
        },
        "execution": {
          "iopub.execute_input": "2024-10-02T11:49:31.00734Z",
          "iopub.status.busy": "2024-10-02T11:49:31.006854Z",
          "iopub.status.idle": "2024-10-02T11:49:31.015648Z",
          "shell.execute_reply": "2024-10-02T11:49:31.014282Z",
          "shell.execute_reply.started": "2024-10-02T11:49:31.007296Z"
        },
        "id": "a0KAR2ExN77B",
        "outputId": "e0499764-c938-4094-c78e-5f230bf96fd5",
        "trusted": true
      },
      "outputs": [
        {
          "name": "stdout",
          "output_type": "stream",
          "text": [
            "{1, 2, 3.0, '5'}\n",
            "<class 'set'>\n",
            "{1, 2, 3, 4}\n"
          ]
        }
      ],
      "source": [
        "a_set = set(a_list)\n",
        "print(a_set)\n",
        "print(type(a_set))\n",
        "a_set = {1, 2, 3, 4}\n",
        "print(a_set)"
      ]
    },
    {
      "cell_type": "code",
      "execution_count": 7,
      "metadata": {
        "_cell_guid": "b1076dfc-b9ad-4769-8c92-a6c4dae69d19",
        "_uuid": "8f2839f25d086af736a60e9eeb907d3b93b6e0e5",
        "colab": {
          "base_uri": "https://localhost:8080/"
        },
        "execution": {
          "iopub.execute_input": "2024-10-02T11:50:25.928643Z",
          "iopub.status.busy": "2024-10-02T11:50:25.927682Z",
          "iopub.status.idle": "2024-10-02T11:50:25.936764Z",
          "shell.execute_reply": "2024-10-02T11:50:25.934781Z",
          "shell.execute_reply.started": "2024-10-02T11:50:25.928589Z"
        },
        "id": "Dmtitx5PN77B",
        "outputId": "258ea10d-b517-4a1b-c310-c205e1d2bd49",
        "trusted": true
      },
      "outputs": [
        {
          "name": "stdout",
          "output_type": "stream",
          "text": [
            "Keys:\t [1, 'doi', 3.0]\n",
            "Values:\t ['unu', 2, {1, 2, 3, 4}]\n",
            "{1: 'unu', 'doi': 2, 3.0: {1, 2, 3, 4}}\n",
            "<class 'dict'>\n"
          ]
        }
      ],
      "source": [
        "a_dict = {\n",
        "    1: 'unu',\n",
        "    'doi': 2,\n",
        "    3.0: a_set\n",
        "}\n",
        "print(\"Keys:\\t\", list(a_dict.keys()))\n",
        "print(\"Values:\\t\", list(a_dict.values()))\n",
        "print(a_dict)\n",
        "print(type(a_dict))"
      ]
    },
    {
      "cell_type": "markdown",
      "metadata": {
        "id": "EE6My2IjN77B"
      },
      "source": [
        "## Functions"
      ]
    },
    {
      "cell_type": "code",
      "execution_count": 8,
      "metadata": {
        "colab": {
          "base_uri": "https://localhost:8080/"
        },
        "execution": {
          "iopub.execute_input": "2024-10-02T11:51:31.894016Z",
          "iopub.status.busy": "2024-10-02T11:51:31.893551Z",
          "iopub.status.idle": "2024-10-02T11:51:31.904305Z",
          "shell.execute_reply": "2024-10-02T11:51:31.902815Z",
          "shell.execute_reply.started": "2024-10-02T11:51:31.893971Z"
        },
        "id": "nX8fadHKN77B",
        "outputId": "056ddaff-0d7b-4032-dd6d-de1da53b3b26",
        "trusted": true
      },
      "outputs": [
        {
          "data": {
            "text/plain": [
              "11"
            ]
          },
          "execution_count": 8,
          "metadata": {},
          "output_type": "execute_result"
        }
      ],
      "source": [
        "def add_two_values(a, b):\n",
        "    return a + b\n",
        "\n",
        "add_two_values(5, 6)"
      ]
    },
    {
      "cell_type": "code",
      "execution_count": 9,
      "metadata": {
        "colab": {
          "base_uri": "https://localhost:8080/"
        },
        "execution": {
          "iopub.execute_input": "2024-10-02T11:52:16.545022Z",
          "iopub.status.busy": "2024-10-02T11:52:16.544522Z",
          "iopub.status.idle": "2024-10-02T11:52:16.554614Z",
          "shell.execute_reply": "2024-10-02T11:52:16.553091Z",
          "shell.execute_reply.started": "2024-10-02T11:52:16.544976Z"
        },
        "id": "ZsQjTrEAN77B",
        "outputId": "d6865f62-7636-4878-996a-95305ee81623",
        "trusted": true
      },
      "outputs": [
        {
          "data": {
            "text/plain": [
              "20.0"
            ]
          },
          "execution_count": 9,
          "metadata": {},
          "output_type": "execute_result"
        }
      ],
      "source": [
        "def multiply(a: float, b: float) -> float:\n",
        "    return a * b\n",
        "\n",
        "multiply(4.0, 5.0)"
      ]
    },
    {
      "cell_type": "code",
      "execution_count": 10,
      "metadata": {
        "colab": {
          "base_uri": "https://localhost:8080/",
          "height": 35
        },
        "execution": {
          "iopub.execute_input": "2024-10-02T11:52:50.76403Z",
          "iopub.status.busy": "2024-10-02T11:52:50.763543Z",
          "iopub.status.idle": "2024-10-02T11:52:50.773893Z",
          "shell.execute_reply": "2024-10-02T11:52:50.772157Z",
          "shell.execute_reply.started": "2024-10-02T11:52:50.763985Z"
        },
        "id": "7Nw6RLGEN77B",
        "outputId": "c3056dc5-d844-447a-e7f3-5bc2bd505b7d",
        "trusted": true
      },
      "outputs": [
        {
          "data": {
            "application/vnd.google.colaboratory.intrinsic+json": {
              "type": "string"
            },
            "text/plain": [
              "'ABAB'"
            ]
          },
          "execution_count": 10,
          "metadata": {},
          "output_type": "execute_result"
        }
      ],
      "source": [
        "multiply(\"AB\", 2)"
      ]
    }
  ],
  "metadata": {
    "colab": {
      "include_colab_link": true,
      "name": "RN-2024-Lab01",
      "provenance": []
    },
    "kaggle": {
      "accelerator": "none",
      "dataSources": [],
      "dockerImageVersionId": 30775,
      "isGpuEnabled": false,
      "isInternetEnabled": true,
      "language": "python",
      "sourceType": "notebook"
    },
    "kernelspec": {
      "display_name": "Python 3",
      "language": "python",
      "name": "python3"
    },
    "language_info": {
      "codemirror_mode": {
        "name": "ipython",
        "version": 3
      },
      "file_extension": ".py",
      "mimetype": "text/x-python",
      "name": "python",
      "nbconvert_exporter": "python",
      "pygments_lexer": "ipython3",
      "version": "3.10.14"
    }
  },
  "nbformat": 4,
  "nbformat_minor": 0
}
